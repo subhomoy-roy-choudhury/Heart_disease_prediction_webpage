{
 "cells": [
  {
   "cell_type": "code",
   "execution_count": 1,
   "metadata": {},
   "outputs": [
    {
     "name": "stdout",
     "output_type": "stream",
     "text": [
      "Enter age: 50\n",
      "Enter sex: 1\n",
      "Enter cp: 2\n",
      "Enter trestbps: 15\n",
      "Enter chol: 120\n",
      "Enter fbs: 2\n",
      "Enter restecg: 1\n",
      "Enter thalach: 23\n",
      "Enter exang: 1\n",
      "Enter oldpeak: 2\n",
      "Enter slope: 52\n",
      "Enter ca: 1\n",
      "Enter thal: 1\n",
      "[1]\n"
     ]
    }
   ],
   "source": [
    "# Load modules\n",
    "from pandas import read_csv\n",
    "from sklearn.model_selection import train_test_split\n",
    "from sklearn.ensemble import RandomForestClassifier\n",
    "import pandas as pd\n",
    "\n",
    "# Load dataset\n",
    "df = pd.read_csv(r\"heart.csv\")\n",
    "\n",
    "# Split into training data and test data\n",
    "X = df.drop(\"target\",axis=1)\n",
    "y = df[\"target\"]\n",
    "\n",
    "# Create training and testing vars, It’s usually around 80/20 or 70/30.\n",
    "X_train, X_test, Y_train, Y_test = train_test_split(X, y, test_size=0.20, random_state=1)\n",
    "\n",
    "# Now we’ll fit the model on the training data\n",
    "model = RandomForestClassifier()\n",
    "model.fit(X_train, Y_train)\n",
    "\n",
    "# Make predictions on validation dataset\n",
    "predictions = model.predict(X_test)\n",
    "\n",
    "\n",
    "# Pickle model\n",
    "pd.to_pickle(model,r'new_model.pickle')\n",
    "\n",
    "# Unpickle model\n",
    "model = pd.read_pickle(r'new_model.pickle')\n",
    "\n",
    "# Take input from user\n",
    "age = float(input(\"Enter age: \"))\n",
    "sex = float(input(\"Enter sex: \"))\n",
    "cp = float(input(\"Enter cp: \"))\n",
    "trestbps = float(input(\"Enter trestbps: \"))\n",
    "chol = float(input(\"Enter chol: \"))\n",
    "fbs = float(input(\"Enter fbs: \"))\n",
    "restecg = float(input(\"Enter restecg: \"))\n",
    "thalach = float(input(\"Enter thalach: \"))\n",
    "exang = float(input(\"Enter exang: \"))\n",
    "oldpeak = float(input(\"Enter oldpeak: \"))\n",
    "slope = float(input(\"Enter slope: \"))\n",
    "ca = float(input(\"Enter ca: \"))\n",
    "thal = float(input(\"Enter thal: \"))\n",
    "\n",
    "result = model.predict([[age,sex,cp,trestbps,chol,fbs,restecg,thalach,exang,oldpeak,slope,ca,thal]])  # input must be 2D array\n",
    "print(result)"
   ]
  }
 ],
 "metadata": {
  "kernelspec": {
   "display_name": "Python 3",
   "language": "python",
   "name": "python3"
  },
  "language_info": {
   "codemirror_mode": {
    "name": "ipython",
    "version": 3
   },
   "file_extension": ".py",
   "mimetype": "text/x-python",
   "name": "python",
   "nbconvert_exporter": "python",
   "pygments_lexer": "ipython3",
   "version": "3.8.5"
  }
 },
 "nbformat": 4,
 "nbformat_minor": 4
}
